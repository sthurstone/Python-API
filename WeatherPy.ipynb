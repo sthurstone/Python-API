{
 "cells": [
  {
   "cell_type": "markdown",
   "metadata": {},
   "source": [
    "# WeatherPy\n",
    "----\n",
    "\n",
    "#### Note\n",
    "* Instructions have been included for each segment. You do not have to follow them exactly, but they are included to help you think through the steps."
   ]
  },
  {
   "cell_type": "code",
   "execution_count": 1,
   "metadata": {
    "scrolled": true
   },
   "outputs": [],
   "source": [
    "# Dependencies and Setup\n",
    "import matplotlib.pyplot as plt\n",
    "import pandas as pd\n",
    "import numpy as np\n",
    "import requests\n",
    "import time\n",
    "from scipy.stats import linregress\n",
    "import json\n",
    "\n",
    "# Import API key\n",
    "from api_keys import weather_api_key\n",
    "\n",
    "# Incorporated citipy to determine city based on latitude and longitude\n",
    "from citipy import citipy\n",
    "\n",
    "# Output File (CSV)\n",
    "cities = \"../output_data/cities.csv\"\n",
    "\n",
    "# Range of latitudes and longitudes\n",
    "lat_range = (-90, 90)\n",
    "lng_range = (-180, 180)"
   ]
  },
  {
   "cell_type": "code",
   "execution_count": 2,
   "metadata": {},
   "outputs": [
    {
     "data": {
      "text/html": [
       "<div>\n",
       "<style scoped>\n",
       "    .dataframe tbody tr th:only-of-type {\n",
       "        vertical-align: middle;\n",
       "    }\n",
       "\n",
       "    .dataframe tbody tr th {\n",
       "        vertical-align: top;\n",
       "    }\n",
       "\n",
       "    .dataframe thead th {\n",
       "        text-align: right;\n",
       "    }\n",
       "</style>\n",
       "<table border=\"1\" class=\"dataframe\">\n",
       "  <thead>\n",
       "    <tr style=\"text-align: right;\">\n",
       "      <th></th>\n",
       "      <th>City_ID</th>\n",
       "      <th>City</th>\n",
       "      <th>Cloudiness</th>\n",
       "      <th>Country</th>\n",
       "      <th>Date</th>\n",
       "      <th>Humidity</th>\n",
       "      <th>Lat</th>\n",
       "      <th>Lng</th>\n",
       "      <th>Max Temp</th>\n",
       "      <th>Wind Speed</th>\n",
       "    </tr>\n",
       "  </thead>\n",
       "  <tbody>\n",
       "    <tr>\n",
       "      <th>0</th>\n",
       "      <td>0</td>\n",
       "      <td>ostrovnoy</td>\n",
       "      <td>2</td>\n",
       "      <td>RU</td>\n",
       "      <td>1558378754</td>\n",
       "      <td>72</td>\n",
       "      <td>68.05</td>\n",
       "      <td>39.51</td>\n",
       "      <td>37.50</td>\n",
       "      <td>7.16</td>\n",
       "    </tr>\n",
       "    <tr>\n",
       "      <th>1</th>\n",
       "      <td>1</td>\n",
       "      <td>mahebourg</td>\n",
       "      <td>75</td>\n",
       "      <td>MU</td>\n",
       "      <td>1558378503</td>\n",
       "      <td>74</td>\n",
       "      <td>-20.41</td>\n",
       "      <td>57.70</td>\n",
       "      <td>78.80</td>\n",
       "      <td>11.41</td>\n",
       "    </tr>\n",
       "    <tr>\n",
       "      <th>2</th>\n",
       "      <td>2</td>\n",
       "      <td>qaanaaq</td>\n",
       "      <td>25</td>\n",
       "      <td>GL</td>\n",
       "      <td>1558378755</td>\n",
       "      <td>73</td>\n",
       "      <td>77.48</td>\n",
       "      <td>-69.36</td>\n",
       "      <td>22.20</td>\n",
       "      <td>2.37</td>\n",
       "    </tr>\n",
       "    <tr>\n",
       "      <th>3</th>\n",
       "      <td>3</td>\n",
       "      <td>zhuhai</td>\n",
       "      <td>0</td>\n",
       "      <td>CN</td>\n",
       "      <td>1558378755</td>\n",
       "      <td>39</td>\n",
       "      <td>40.71</td>\n",
       "      <td>112.04</td>\n",
       "      <td>44.60</td>\n",
       "      <td>4.47</td>\n",
       "    </tr>\n",
       "    <tr>\n",
       "      <th>4</th>\n",
       "      <td>4</td>\n",
       "      <td>cape town</td>\n",
       "      <td>20</td>\n",
       "      <td>ZA</td>\n",
       "      <td>1558378755</td>\n",
       "      <td>76</td>\n",
       "      <td>-33.93</td>\n",
       "      <td>18.42</td>\n",
       "      <td>55.99</td>\n",
       "      <td>8.05</td>\n",
       "    </tr>\n",
       "  </tbody>\n",
       "</table>\n",
       "</div>"
      ],
      "text/plain": [
       "   City_ID       City  Cloudiness Country        Date  Humidity    Lat  \\\n",
       "0        0  ostrovnoy           2      RU  1558378754        72  68.05   \n",
       "1        1  mahebourg          75      MU  1558378503        74 -20.41   \n",
       "2        2    qaanaaq          25      GL  1558378755        73  77.48   \n",
       "3        3     zhuhai           0      CN  1558378755        39  40.71   \n",
       "4        4  cape town          20      ZA  1558378755        76 -33.93   \n",
       "\n",
       "      Lng  Max Temp  Wind Speed  \n",
       "0   39.51     37.50        7.16  \n",
       "1   57.70     78.80       11.41  \n",
       "2  -69.36     22.20        2.37  \n",
       "3  112.04     44.60        4.47  \n",
       "4   18.42     55.99        8.05  "
      ]
     },
     "execution_count": 2,
     "metadata": {},
     "output_type": "execute_result"
    }
   ],
   "source": [
    "City_weather = pd.read_csv(cities)\n",
    "\n",
    "City_weather.head()"
   ]
  },
  {
   "cell_type": "markdown",
   "metadata": {},
   "source": [
    "## Generate Cities List"
   ]
  },
  {
   "cell_type": "code",
   "execution_count": 3,
   "metadata": {},
   "outputs": [
    {
     "name": "stdout",
     "output_type": "stream",
     "text": [
      "622\n"
     ]
    }
   ],
   "source": [
    "# List for holding lat_lngs and cities\n",
    "lat_lngs = []\n",
    "cities = []\n",
    "\n",
    "# Create a set of random lat and lng combinations\n",
    "lats = np.random.uniform(lat_range[0], lat_range[1], size=1500)\n",
    "lngs = np.random.uniform(lng_range[0], lng_range[1], size=1500)\n",
    "lat_lngs = zip(lats, lngs)\n",
    "\n",
    "# Identify nearest city for each lat, lng combination\n",
    "for lat_lng in lat_lngs:\n",
    "    city = citipy.nearest_city(lat_lng[0], lat_lng[1]).city_name\n",
    "    \n",
    "    # If the city is unique, then add it to a our cities list\n",
    "    if city not in cities:\n",
    "        cities.append(city)\n",
    "\n",
    "# Print the city count to confirm sufficient count\n",
    "len(cities)\n",
    "\n",
    "print(len(cities))"
   ]
  },
  {
   "cell_type": "markdown",
   "metadata": {},
   "source": [
    "### Perform API Calls\n",
    "* Perform a weather check on each city using a series of successive API calls.\n",
    "* Include a print log of each city as it'sbeing processed (with the city number and city name).\n"
   ]
  },
  {
   "cell_type": "code",
   "execution_count": 4,
   "metadata": {},
   "outputs": [],
   "source": [
    "#URL Path\n",
    "base_url = 'http://api.openweathermap.org/data/2.5/weather?units=Imperial&APPID=' + weather_api_key"
   ]
  },
  {
   "cell_type": "code",
   "execution_count": 5,
   "metadata": {
    "scrolled": true
   },
   "outputs": [],
   "source": [
    "#Retrieval Order\n",
    "Retrieval_Record=1\n",
    "\n",
    "#Lists to hold data\n",
    "country=[]\n",
    "city_id=[]\n",
    "city_name = []\n",
    "latitude = []\n",
    "longitude = []\n",
    "date = []\n",
    "humidity = []\n",
    "cloudiness = []\n",
    "wind_speed = []\n",
    "max_temperature = []"
   ]
  },
  {
   "cell_type": "code",
   "execution_count": 6,
   "metadata": {},
   "outputs": [
    {
     "name": "stdout",
     "output_type": "stream",
     "text": [
      "In Progress: Data Retrieval\n",
      "____________________________________\n",
      "1 of 622 | City: porbandar\n",
      "2 of 622 | City: iqaluit\n",
      "3 of 622 | City: koslan\n",
      "4 of 622 | City: lebu\n",
      "5 of 622 | City: nioro\n",
      "6 of 622 | City: rovaniemi\n",
      "7 of 622 | City: ushuaia\n",
      "8 of 622 | City: new norfolk\n",
      "9 of 622 | City: rio grande\n",
      "10 of 622 | City: busselton\n",
      "11 of 622 | City: cape town\n",
      "12 of 622 | City: pevek\n",
      "13 of 622 | City: longyearbyen\n",
      "14 of 622 | City: cascais\n",
      "15 of 622 | City: rikitea\n",
      "16 of 622 | City: victoria\n",
      "17 of 622 | City: ayan\n",
      "18 of 622 | City: ponta do sol\n",
      "19 of 622 | City: thompson\n",
      "20 of 622 | City: rongcheng\n",
      "21 of 622 | City: borsa\n",
      "22 of 622 | City: atuona\n",
      "23 of 622 | City: edd\n",
      "24 of 622 | City: arman\n",
      "25 of 622 | City: butaritari\n",
      "26 of 622 | City: ahipara\n",
      "27 of 622 | City: hobart\n",
      "28 of 622 | City: tasiilaq\n",
      "29 of 622 | City: puerto ayora\n",
      "30 of 622 | City: padang\n",
      "31 of 622 | City: isangel\n",
      "32 of 622 | City: ancud\n",
      "33 of 622 | City: bethel\n",
      "34 of 622 | City: mataura\n",
      "35 of 622 | City: deputatskiy\n",
      "36 of 622 | City: broken hill\n",
      "37 of 622 | City: nyurba\n",
      "38 of 622 | City: punta arenas\n",
      "39 of 622 | City: bilibino\n",
      "40 of 622 | City: tabou\n",
      "Error: Skipping City\n",
      "41 of 622 | City: talcahuano\n",
      "42 of 622 | City: barrow\n",
      "Error: Skipping City\n",
      "43 of 622 | City: alice springs\n",
      "44 of 622 | City: tiksi\n",
      "45 of 622 | City: yar-sale\n",
      "46 of 622 | City: kaeo\n",
      "47 of 622 | City: mount isa\n",
      "48 of 622 | City: hilo\n",
      "49 of 622 | City: avera\n",
      "50 of 622 | City: sao filipe\n",
      "51 of 622 | City: dondo\n",
      "52 of 622 | City: champerico\n",
      "Error: Skipping City\n",
      "Error: Skipping City\n",
      "53 of 622 | City: nador\n",
      "54 of 622 | City: cidreira\n",
      "55 of 622 | City: hithadhoo\n",
      "56 of 622 | City: richards bay\n",
      "57 of 622 | City: shebunino\n",
      "58 of 622 | City: qasigiannguit\n",
      "59 of 622 | City: bredasdorp\n",
      "60 of 622 | City: surt\n",
      "61 of 622 | City: kapaa\n",
      "62 of 622 | City: doctor arroyo\n",
      "63 of 622 | City: talnakh\n",
      "64 of 622 | City: saint george\n",
      "65 of 622 | City: governador valadares\n",
      "66 of 622 | City: gornopravdinsk\n",
      "67 of 622 | City: orcopampa\n",
      "68 of 622 | City: cocula\n",
      "69 of 622 | City: novyy urengoy\n",
      "70 of 622 | City: poum\n",
      "71 of 622 | City: saint-leu\n",
      "72 of 622 | City: hermanus\n",
      "73 of 622 | City: albany\n",
      "74 of 622 | City: lagoa\n",
      "75 of 622 | City: acara\n",
      "76 of 622 | City: xiashi\n",
      "77 of 622 | City: matadi\n",
      "78 of 622 | City: east london\n",
      "79 of 622 | City: bengkulu\n",
      "80 of 622 | City: sakakah\n",
      "81 of 622 | City: severo-kurilsk\n",
      "82 of 622 | City: freeport\n",
      "83 of 622 | City: porto walter\n",
      "84 of 622 | City: sarai naurang\n",
      "85 of 622 | City: yellowknife\n",
      "86 of 622 | City: bahia blanca\n",
      "87 of 622 | City: parrita\n",
      "88 of 622 | City: uberaba\n",
      "89 of 622 | City: valleyview\n",
      "90 of 622 | City: constitucion\n",
      "91 of 622 | City: avarua\n",
      "Error: Skipping City\n",
      "92 of 622 | City: castro\n",
      "93 of 622 | City: olafsvik\n",
      "94 of 622 | City: khatanga\n",
      "95 of 622 | City: saskylakh\n",
      "Error: Skipping City\n",
      "96 of 622 | City: lompoc\n",
      "97 of 622 | City: kudahuvadhoo\n",
      "98 of 622 | City: banning\n",
      "99 of 622 | City: beringovskiy\n",
      "Error: Skipping City\n",
      "100 of 622 | City: jamestown\n",
      "101 of 622 | City: tuktoyaktuk\n",
      "102 of 622 | City: north ridgeville\n",
      "103 of 622 | City: dickinson\n",
      "104 of 622 | City: old saybrook\n",
      "105 of 622 | City: leningradskiy\n",
      "106 of 622 | City: srednekolymsk\n",
      "107 of 622 | City: vila franca do campo\n",
      "108 of 622 | City: san patricio\n",
      "Error: Skipping City\n",
      "109 of 622 | City: dongsheng\n",
      "110 of 622 | City: bella union\n",
      "Error: Skipping City\n",
      "111 of 622 | City: isiro\n",
      "112 of 622 | City: bluff\n",
      "113 of 622 | City: ostrovnoy\n",
      "114 of 622 | City: camopi\n",
      "115 of 622 | City: carnarvon\n",
      "116 of 622 | City: bambous virieux\n",
      "117 of 622 | City: lorengau\n",
      "118 of 622 | City: hamilton\n",
      "119 of 622 | City: qaanaaq\n",
      "120 of 622 | City: vaini\n",
      "121 of 622 | City: paamiut\n",
      "122 of 622 | City: svetlyy\n",
      "123 of 622 | City: chuy\n",
      "Error: Skipping City\n",
      "124 of 622 | City: atambua\n",
      "125 of 622 | City: aykhal\n",
      "126 of 622 | City: kodiak\n",
      "127 of 622 | City: ribeira grande\n",
      "128 of 622 | City: port alfred\n",
      "129 of 622 | City: fatezh\n",
      "130 of 622 | City: sitka\n",
      "131 of 622 | City: narrabri\n",
      "132 of 622 | City: namibe\n",
      "133 of 622 | City: boa vista\n",
      "134 of 622 | City: pop\n",
      "135 of 622 | City: santa isabel do rio negro\n",
      "136 of 622 | City: kathu\n",
      "137 of 622 | City: road town\n",
      "138 of 622 | City: rawson\n",
      "139 of 622 | City: ilulissat\n",
      "140 of 622 | City: torbay\n",
      "141 of 622 | City: ojinaga\n",
      "142 of 622 | City: provideniya\n",
      "143 of 622 | City: awbari\n",
      "144 of 622 | City: krasnyy yar\n",
      "145 of 622 | City: kotido\n",
      "Error: Skipping City\n",
      "146 of 622 | City: kaitangata\n",
      "147 of 622 | City: mende\n",
      "148 of 622 | City: upernavik\n",
      "149 of 622 | City: nelson bay\n",
      "150 of 622 | City: yulara\n",
      "151 of 622 | City: bonavista\n",
      "152 of 622 | City: luderitz\n",
      "Error: Skipping City\n",
      "153 of 622 | City: hailar\n",
      "154 of 622 | City: vocklabruck\n",
      "155 of 622 | City: hasaki\n",
      "156 of 622 | City: kyra\n",
      "Error: Skipping City\n",
      "157 of 622 | City: miracema do tocantins\n",
      "158 of 622 | City: namakkal\n",
      "159 of 622 | City: kapuskasing\n",
      "160 of 622 | City: kandrian\n",
      "161 of 622 | City: hami\n",
      "162 of 622 | City: chagoda\n",
      "163 of 622 | City: kavaratti\n",
      "164 of 622 | City: zihuatanejo\n",
      "165 of 622 | City: buraydah\n",
      "166 of 622 | City: frutal\n",
      "167 of 622 | City: dikson\n",
      "Error: Skipping City\n",
      "168 of 622 | City: mar del plata\n",
      "169 of 622 | City: peleduy\n",
      "170 of 622 | City: kuytun\n",
      "171 of 622 | City: mahebourg\n",
      "172 of 622 | City: lubango\n",
      "173 of 622 | City: moore\n",
      "174 of 622 | City: morehead\n",
      "175 of 622 | City: alta floresta\n",
      "176 of 622 | City: raton\n",
      "177 of 622 | City: jijiga\n",
      "178 of 622 | City: college\n",
      "179 of 622 | City: cherskiy\n",
      "180 of 622 | City: ailigandi\n",
      "181 of 622 | City: sapa\n",
      "182 of 622 | City: svidnik\n",
      "Error: Skipping City\n",
      "183 of 622 | City: todos santos\n",
      "184 of 622 | City: san quintin\n",
      "185 of 622 | City: samarai\n",
      "186 of 622 | City: arraial do cabo\n",
      "187 of 622 | City: erenhot\n",
      "188 of 622 | City: kruisfontein\n",
      "Error: Skipping City\n",
      "Error: Skipping City\n",
      "189 of 622 | City: jinchang\n",
      "190 of 622 | City: arona\n",
      "191 of 622 | City: sinegorye\n",
      "192 of 622 | City: faanui\n",
      "Error: Skipping City\n",
      "193 of 622 | City: cockburn town\n",
      "Error: Skipping City\n",
      "194 of 622 | City: morro bay\n",
      "Error: Skipping City\n",
      "195 of 622 | City: guerrero negro\n",
      "196 of 622 | City: taga\n",
      "197 of 622 | City: georgetown\n",
      "198 of 622 | City: chivor\n",
      "199 of 622 | City: pangkalanbuun\n",
      "200 of 622 | City: nikolskoye\n",
      "201 of 622 | City: taoudenni\n",
      "202 of 622 | City: ler\n",
      "203 of 622 | City: cobija\n",
      "204 of 622 | City: evanston\n",
      "205 of 622 | City: puerto narino\n",
      "Error: Skipping City\n",
      "206 of 622 | City: salalah\n",
      "207 of 622 | City: fukue\n",
      "208 of 622 | City: coihaique\n",
      "209 of 622 | City: hit\n",
      "210 of 622 | City: nyimba\n",
      "Error: Skipping City\n",
      "211 of 622 | City: yumen\n",
      "212 of 622 | City: hollister\n",
      "213 of 622 | City: ust-nera\n",
      "214 of 622 | City: carutapera\n",
      "215 of 622 | City: flin flon\n",
      "Error: Skipping City\n",
      "216 of 622 | City: chibombo\n",
      "217 of 622 | City: soure\n",
      "218 of 622 | City: makakilo city\n",
      "219 of 622 | City: mabamba\n",
      "220 of 622 | City: lata\n",
      "221 of 622 | City: eureka\n",
      "222 of 622 | City: roald\n",
      "223 of 622 | City: praia\n",
      "224 of 622 | City: jand\n",
      "225 of 622 | City: micheweni\n",
      "226 of 622 | City: tura\n",
      "227 of 622 | City: san remigio\n",
      "228 of 622 | City: souillac\n",
      "229 of 622 | City: nezhinka\n",
      "230 of 622 | City: jinxiang\n",
      "231 of 622 | City: onguday\n",
      "232 of 622 | City: santa rosa\n",
      "233 of 622 | City: saint-philippe\n",
      "234 of 622 | City: lavrentiya\n",
      "235 of 622 | City: sola\n",
      "236 of 622 | City: huayang\n",
      "237 of 622 | City: udachnyy\n",
      "238 of 622 | City: narimanov\n",
      "239 of 622 | City: concordia\n",
      "240 of 622 | City: novikovo\n",
      "241 of 622 | City: kargasok\n",
      "242 of 622 | City: lesnoy\n",
      "243 of 622 | City: mareeba\n",
      "244 of 622 | City: tiznit\n",
      "Error: Skipping City\n",
      "245 of 622 | City: airai\n",
      "246 of 622 | City: norman wells\n",
      "247 of 622 | City: berdigestyakh\n",
      "248 of 622 | City: faya\n",
      "249 of 622 | City: maniitsoq\n",
      "250 of 622 | City: daru\n",
      "251 of 622 | City: leshukonskoye\n",
      "252 of 622 | City: tigil\n",
      "253 of 622 | City: rio cuarto\n",
      "254 of 622 | City: clyde river\n",
      "255 of 622 | City: virginia beach\n",
      "256 of 622 | City: mocuba\n",
      "257 of 622 | City: kahului\n",
      "258 of 622 | City: tromso\n",
      "259 of 622 | City: kashi\n",
      "260 of 622 | City: yuncheng\n",
      "Error: Skipping City\n",
      "261 of 622 | City: mayo\n",
      "262 of 622 | City: cabo san lucas\n",
      "263 of 622 | City: acultzingo\n",
      "264 of 622 | City: ormara\n",
      "265 of 622 | City: safaga\n",
      "266 of 622 | City: bahia honda\n",
      "Error: Skipping City\n",
      "267 of 622 | City: tuatapere\n",
      "268 of 622 | City: charqueadas\n",
      "269 of 622 | City: dingle\n",
      "270 of 622 | City: waddan\n",
      "271 of 622 | City: berbera\n",
      "272 of 622 | City: bathsheba\n",
      "273 of 622 | City: meulaboh\n",
      "274 of 622 | City: kloulklubed\n",
      "275 of 622 | City: bayeux\n",
      "276 of 622 | City: muisne\n",
      "277 of 622 | City: dukat\n",
      "278 of 622 | City: rocha\n",
      "279 of 622 | City: nemuro\n",
      "280 of 622 | City: stokmarknes\n",
      "281 of 622 | City: muros\n",
      "282 of 622 | City: kurmanayevka\n",
      "283 of 622 | City: goderich\n",
      "284 of 622 | City: matara\n",
      "285 of 622 | City: mikkeli\n",
      "286 of 622 | City: vestmannaeyjar\n",
      "Error: Skipping City\n",
      "287 of 622 | City: kavieng\n",
      "288 of 622 | City: pombas\n",
      "289 of 622 | City: wanaka\n",
      "290 of 622 | City: skelleftea\n",
      "291 of 622 | City: palmer\n",
      "292 of 622 | City: elin pelin\n",
      "293 of 622 | City: yatou\n",
      "294 of 622 | City: grindavik\n",
      "295 of 622 | City: clifton springs\n",
      "296 of 622 | City: garzon\n",
      "297 of 622 | City: charters towers\n",
      "298 of 622 | City: abu dhabi\n",
      "299 of 622 | City: saint anthony\n",
      "300 of 622 | City: boguchany\n",
      "301 of 622 | City: hong gai\n",
      "302 of 622 | City: saint-louis\n",
      "303 of 622 | City: bombay\n",
      "304 of 622 | City: progreso\n",
      "305 of 622 | City: dhidhdhoo\n",
      "306 of 622 | City: pangoa\n",
      "307 of 622 | City: krasnovishersk\n",
      "308 of 622 | City: jalu\n",
      "Error: Skipping City\n",
      "309 of 622 | City: adrar\n",
      "310 of 622 | City: gwadar\n",
      "Error: Skipping City\n",
      "311 of 622 | City: abu samrah\n",
      "312 of 622 | City: hualmay\n",
      "313 of 622 | City: qaqortoq\n",
      "314 of 622 | City: bantogon\n",
      "315 of 622 | City: shingu\n",
      "316 of 622 | City: gobabis\n",
      "317 of 622 | City: altar\n",
      "318 of 622 | City: camacha\n",
      "319 of 622 | City: esperance\n",
      "320 of 622 | City: kadyy\n",
      "321 of 622 | City: jumla\n",
      "322 of 622 | City: anju\n",
      "323 of 622 | City: moyale\n",
      "324 of 622 | City: apud\n",
      "325 of 622 | City: arlit\n",
      "326 of 622 | City: merrill\n",
      "Error: Skipping City\n",
      "327 of 622 | City: biak\n",
      "Error: Skipping City\n",
      "328 of 622 | City: yangambi\n",
      "329 of 622 | City: boulogne-sur-mer\n",
      "330 of 622 | City: vao\n",
      "331 of 622 | City: buala\n",
      "332 of 622 | City: te anau\n",
      "333 of 622 | City: chokurdakh\n",
      "334 of 622 | City: marsh harbour\n",
      "Error: Skipping City\n",
      "335 of 622 | City: waipawa\n",
      "336 of 622 | City: ahwa\n",
      "337 of 622 | City: coahuayana\n",
      "338 of 622 | City: indianola\n",
      "339 of 622 | City: christchurch\n",
      "340 of 622 | City: brae\n",
      "Error: Skipping City\n",
      "341 of 622 | City: sandakan\n",
      "Error: Skipping City\n",
      "342 of 622 | City: neuquen\n",
      "343 of 622 | City: lar\n",
      "344 of 622 | City: culebra\n",
      "345 of 622 | City: peniche\n",
      "346 of 622 | City: mashhad\n",
      "347 of 622 | City: port hedland\n",
      "Error: Skipping City\n",
      "348 of 622 | City: moranbah\n",
      "349 of 622 | City: hambantota\n",
      "350 of 622 | City: shimanovsk\n",
      "351 of 622 | City: pisco\n",
      "352 of 622 | City: mikhaylovka\n",
      "Error: Skipping City\n",
      "353 of 622 | City: bitkine\n",
      "354 of 622 | City: sangar\n",
      "355 of 622 | City: saint-pierre\n",
      "356 of 622 | City: phuket\n",
      "357 of 622 | City: caravelas\n",
      "358 of 622 | City: matay\n",
      "359 of 622 | City: misratah\n",
      "360 of 622 | City: odweyne\n",
      "361 of 622 | City: sirari\n",
      "362 of 622 | City: hervey bay\n",
      "363 of 622 | City: itarema\n",
      "364 of 622 | City: omboue\n",
      "365 of 622 | City: zhezkazgan\n",
      "366 of 622 | City: san vicente\n",
      "Error: Skipping City\n",
      "367 of 622 | City: mumford\n",
      "368 of 622 | City: halifax\n",
      "369 of 622 | City: huilong\n",
      "Error: Skipping City\n",
      "370 of 622 | City: sept-iles\n",
      "Error: Skipping City\n",
      "371 of 622 | City: abha\n",
      "372 of 622 | City: inirida\n",
      "373 of 622 | City: mtwara\n",
      "374 of 622 | City: havelock\n",
      "375 of 622 | City: mecca\n",
      "376 of 622 | City: pucallpa\n",
      "Error: Skipping City\n",
      "377 of 622 | City: yeniseysk\n",
      "378 of 622 | City: saint-georges\n",
      "379 of 622 | City: sigli\n",
      "380 of 622 | City: rio gallegos\n",
      "381 of 622 | City: tuy hoa\n",
      "382 of 622 | City: klaksvik\n",
      "383 of 622 | City: nizhnyaya poyma\n",
      "384 of 622 | City: komsomolskoye\n",
      "385 of 622 | City: presque isle\n",
      "386 of 622 | City: san cristobal\n",
      "387 of 622 | City: san martin\n",
      "388 of 622 | City: meiganga\n",
      "389 of 622 | City: khasan\n",
      "390 of 622 | City: nanortalik\n",
      "Error: Skipping City\n",
      "391 of 622 | City: ouallam\n",
      "392 of 622 | City: sundargarh\n",
      "393 of 622 | City: nhamunda\n",
      "394 of 622 | City: honningsvag\n",
      "395 of 622 | City: dakar\n",
      "396 of 622 | City: castrillon\n",
      "397 of 622 | City: lynden\n",
      "398 of 622 | City: bom jesus da lapa\n",
      "399 of 622 | City: poronaysk\n",
      "Error: Skipping City\n",
      "400 of 622 | City: haines junction\n",
      "401 of 622 | City: krasnyy luch\n",
      "402 of 622 | City: grand gaube\n",
      "403 of 622 | City: calama\n",
      "Error: Skipping City\n",
      "404 of 622 | City: shieli\n",
      "Error: Skipping City\n",
      "Error: Skipping City\n",
      "405 of 622 | City: marystown\n",
      "406 of 622 | City: brigantine\n",
      "407 of 622 | City: nong chik\n",
      "408 of 622 | City: port hardy\n",
      "409 of 622 | City: fort stewart\n",
      "410 of 622 | City: estelle\n",
      "411 of 622 | City: salinas\n",
      "Error: Skipping City\n",
      "412 of 622 | City: touros\n",
      "413 of 622 | City: zhigansk\n",
      "414 of 622 | City: portland\n",
      "415 of 622 | City: vostok\n",
      "416 of 622 | City: rosarito\n",
      "417 of 622 | City: mount pleasant\n",
      "418 of 622 | City: penzance\n",
      "419 of 622 | City: fonte boa\n",
      "420 of 622 | City: huarmey\n",
      "421 of 622 | City: san carlos de bariloche\n",
      "422 of 622 | City: hidalgo\n",
      "423 of 622 | City: kiama\n",
      "424 of 622 | City: egvekinot\n",
      "425 of 622 | City: lasa\n",
      "426 of 622 | City: woodward\n",
      "Error: Skipping City\n",
      "427 of 622 | City: port elizabeth\n",
      "428 of 622 | City: kushmurun\n",
      "429 of 622 | City: comodoro rivadavia\n",
      "430 of 622 | City: berlevag\n",
      "431 of 622 | City: kasangulu\n",
      "432 of 622 | City: inhambane\n",
      "433 of 622 | City: amuntai\n",
      "434 of 622 | City: riyadh\n",
      "435 of 622 | City: rundu\n",
      "436 of 622 | City: thanh hoa\n",
      "437 of 622 | City: newport\n",
      "438 of 622 | City: marrakesh\n",
      "439 of 622 | City: birobidzhan\n",
      "440 of 622 | City: north myrtle beach\n",
      "441 of 622 | City: aljezur\n",
      "442 of 622 | City: narsaq\n",
      "443 of 622 | City: alice town\n",
      "444 of 622 | City: port augusta\n",
      "445 of 622 | City: lixourion\n",
      "446 of 622 | City: rizhao\n",
      "447 of 622 | City: zhuanghe\n",
      "448 of 622 | City: alekseyevsk\n",
      "449 of 622 | City: sobolevo\n",
      "450 of 622 | City: sisimiut\n",
      "Error: Skipping City\n",
      "451 of 622 | City: ulaangom\n",
      "452 of 622 | City: pandan niog\n",
      "453 of 622 | City: victor harbor\n",
      "454 of 622 | City: pueblo nuevo\n",
      "455 of 622 | City: kroya\n",
      "456 of 622 | City: ust-ishim\n",
      "457 of 622 | City: haimen\n",
      "458 of 622 | City: isabela\n",
      "459 of 622 | City: denia\n",
      "460 of 622 | City: pilar\n",
      "461 of 622 | City: havoysund\n",
      "462 of 622 | City: millinocket\n",
      "463 of 622 | City: quatre cocos\n",
      "464 of 622 | City: bubaque\n",
      "465 of 622 | City: port blair\n",
      "466 of 622 | City: aloleng\n",
      "467 of 622 | City: mortka\n",
      "468 of 622 | City: henties bay\n",
      "469 of 622 | City: vila velha\n",
      "470 of 622 | City: mahon\n",
      "471 of 622 | City: barcelos\n",
      "472 of 622 | City: la ronge\n",
      "473 of 622 | City: artesia\n",
      "474 of 622 | City: chabua\n",
      "475 of 622 | City: vilyuysk\n",
      "476 of 622 | City: saldanha\n",
      "477 of 622 | City: calabozo\n",
      "478 of 622 | City: pitimbu\n",
      "479 of 622 | City: puerto del rosario\n",
      "480 of 622 | City: los llanos de aridane\n",
      "481 of 622 | City: ransang\n",
      "Error: Skipping City\n",
      "482 of 622 | City: fort nelson\n",
      "483 of 622 | City: erzin\n",
      "484 of 622 | City: bandarbeyla\n",
      "485 of 622 | City: juneau\n",
      "486 of 622 | City: ozernovskiy\n",
      "Error: Skipping City\n",
      "487 of 622 | City: grajau\n",
      "488 of 622 | City: det udom\n",
      "489 of 622 | City: buchanan\n",
      "490 of 622 | City: acapulco\n",
      "491 of 622 | City: aktau\n",
      "492 of 622 | City: nalut\n",
      "493 of 622 | City: suez\n",
      "494 of 622 | City: husavik\n",
      "495 of 622 | City: san pedro\n",
      "496 of 622 | City: kimbe\n",
      "497 of 622 | City: maine-soroa\n",
      "498 of 622 | City: russell\n",
      "499 of 622 | City: belyy yar\n",
      "500 of 622 | City: margate\n",
      "501 of 622 | City: naze\n",
      "502 of 622 | City: zdounky\n",
      "503 of 622 | City: fortuna\n",
      "504 of 622 | City: ketchikan\n",
      "505 of 622 | City: marawi\n",
      "506 of 622 | City: piacabucu\n",
      "507 of 622 | City: funtua\n",
      "508 of 622 | City: darhan\n",
      "509 of 622 | City: cayenne\n",
      "510 of 622 | City: almeirim\n",
      "511 of 622 | City: coolum beach\n",
      "512 of 622 | City: verkhnevilyuysk\n",
      "513 of 622 | City: pringsewu\n",
      "514 of 622 | City: uribia\n",
      "515 of 622 | City: cabedelo\n",
      "516 of 622 | City: san policarpo\n",
      "517 of 622 | City: kiunga\n",
      "518 of 622 | City: yarmouth\n",
      "519 of 622 | City: geraldton\n",
      "520 of 622 | City: byron bay\n",
      "521 of 622 | City: sotnikovo\n",
      "522 of 622 | City: katsuura\n",
      "523 of 622 | City: rovnoye\n",
      "524 of 622 | City: kendari\n",
      "525 of 622 | City: soyo\n",
      "526 of 622 | City: kijang\n",
      "527 of 622 | City: qui nhon\n",
      "Error: Skipping City\n",
      "528 of 622 | City: nabire\n",
      "Error: Skipping City\n",
      "529 of 622 | City: trelew\n",
      "530 of 622 | City: muroto\n",
      "531 of 622 | City: broome\n",
      "532 of 622 | City: presidencia roque saenz pena\n",
      "533 of 622 | City: lujiang\n",
      "534 of 622 | City: itaituba\n",
      "535 of 622 | City: maumere\n",
      "536 of 622 | City: shengjin\n",
      "537 of 622 | City: svetlogorsk\n",
      "538 of 622 | City: mankato\n",
      "539 of 622 | City: sistranda\n",
      "540 of 622 | City: manado\n",
      "541 of 622 | City: halmstad\n",
      "542 of 622 | City: abong mbang\n",
      "543 of 622 | City: labytnangi\n",
      "Error: Skipping City\n",
      "544 of 622 | City: port macquarie\n",
      "545 of 622 | City: sao felix do xingu\n",
      "546 of 622 | City: nago\n",
      "547 of 622 | City: nouadhibou\n",
      "548 of 622 | City: aksu\n",
      "549 of 622 | City: mogadishu\n",
      "550 of 622 | City: ossora\n",
      "551 of 622 | City: iranshahr\n",
      "552 of 622 | City: san andres\n",
      "553 of 622 | City: vangaindrano\n",
      "554 of 622 | City: suoyarvi\n",
      "555 of 622 | City: pimentel\n",
      "556 of 622 | City: aswan\n",
      "557 of 622 | City: ballina\n",
      "558 of 622 | City: okhotsk\n",
      "Error: Skipping City\n",
      "559 of 622 | City: praya\n",
      "560 of 622 | City: goroka\n",
      "561 of 622 | City: odienne\n",
      "562 of 622 | City: canberra\n",
      "563 of 622 | City: seoul\n",
      "564 of 622 | City: calmar\n",
      "565 of 622 | City: valparaiso\n",
      "566 of 622 | City: nexo\n",
      "567 of 622 | City: pangnirtung\n",
      "568 of 622 | City: raduzhnyy\n",
      "Data Retrieval Complete\n",
      "______________________________________\n"
     ]
    }
   ],
   "source": [
    "#Start retrieving data\n",
    "\n",
    "print(f\"In Progress: Data Retrieval\")\n",
    "print(f\"____________________________________\")\n",
    "\n",
    "for city in cities:\n",
    "    try:\n",
    "        city_data = (requests.get(base_url + '&q=' + city)).json()\n",
    "        city_name.append(city_data[\"name\"])\n",
    "        country.append(city_data[\"sys\"][\"country\"])\n",
    "        city_id.append(city_data[\"id\"])\n",
    "        latitude.append(city_data[\"coord\"][\"lat\"])\n",
    "        longitude.append(city_data[\"coord\"][\"lon\"])\n",
    "        date.append(city_data[\"dt\"])\n",
    "        humidity.append(city_data[\"main\"][\"humidity\"])\n",
    "        cloudiness.append(city_data[\"clouds\"][\"all\"])\n",
    "        wind_speed.append(city_data[\"wind\"] [\"speed\"])\n",
    "        max_temperature.append(city_data[\"main\"][\"temp_max\"])\n",
    "        \n",
    "        print(f\"{Retrieval_Record} of {len(cities)} | City: {city}\")\n",
    "        \n",
    "        Retrieval_Record=Retrieval_Record+1\n",
    "        \n",
    "    except KeyError: \n",
    "            print(\"Error: Skipping City\")\n",
    "    continue\n",
    "print(f\"Data Retrieval Complete\")\n",
    "print(f\"______________________________________\")"
   ]
  },
  {
   "cell_type": "markdown",
   "metadata": {},
   "source": [
    "# Convert Raw Data to DataFrame\n",
    "* Export the city data into a .csv.\n",
    "* Display the DataFrame"
   ]
  },
  {
   "cell_type": "code",
   "execution_count": 7,
   "metadata": {},
   "outputs": [
    {
     "data": {
      "text/html": [
       "<div>\n",
       "<style scoped>\n",
       "    .dataframe tbody tr th:only-of-type {\n",
       "        vertical-align: middle;\n",
       "    }\n",
       "\n",
       "    .dataframe tbody tr th {\n",
       "        vertical-align: top;\n",
       "    }\n",
       "\n",
       "    .dataframe thead th {\n",
       "        text-align: right;\n",
       "    }\n",
       "</style>\n",
       "<table border=\"1\" class=\"dataframe\">\n",
       "  <thead>\n",
       "    <tr style=\"text-align: right;\">\n",
       "      <th></th>\n",
       "      <th>City</th>\n",
       "      <th>Latitude</th>\n",
       "      <th>Longitude</th>\n",
       "      <th>Max Temperature</th>\n",
       "      <th>Humidity</th>\n",
       "      <th>Cloudiness</th>\n",
       "      <th>Wind Speed</th>\n",
       "    </tr>\n",
       "  </thead>\n",
       "  <tbody>\n",
       "    <tr>\n",
       "      <th>0</th>\n",
       "      <td>Porbandar</td>\n",
       "      <td>21.6422</td>\n",
       "      <td>69.6093</td>\n",
       "      <td>78.24</td>\n",
       "      <td>65</td>\n",
       "      <td>0</td>\n",
       "      <td>6.24</td>\n",
       "    </tr>\n",
       "    <tr>\n",
       "      <th>1</th>\n",
       "      <td>Iqaluit</td>\n",
       "      <td>63.7506</td>\n",
       "      <td>-68.5145</td>\n",
       "      <td>29.70</td>\n",
       "      <td>92</td>\n",
       "      <td>82</td>\n",
       "      <td>5.99</td>\n",
       "    </tr>\n",
       "    <tr>\n",
       "      <th>2</th>\n",
       "      <td>Koslan</td>\n",
       "      <td>63.4564</td>\n",
       "      <td>48.8989</td>\n",
       "      <td>27.68</td>\n",
       "      <td>82</td>\n",
       "      <td>95</td>\n",
       "      <td>7.05</td>\n",
       "    </tr>\n",
       "    <tr>\n",
       "      <th>3</th>\n",
       "      <td>Lebu</td>\n",
       "      <td>-37.6167</td>\n",
       "      <td>-73.6500</td>\n",
       "      <td>55.67</td>\n",
       "      <td>85</td>\n",
       "      <td>12</td>\n",
       "      <td>8.57</td>\n",
       "    </tr>\n",
       "    <tr>\n",
       "      <th>4</th>\n",
       "      <td>Nioro</td>\n",
       "      <td>13.3500</td>\n",
       "      <td>-15.7500</td>\n",
       "      <td>81.18</td>\n",
       "      <td>77</td>\n",
       "      <td>100</td>\n",
       "      <td>4.76</td>\n",
       "    </tr>\n",
       "    <tr>\n",
       "      <th>5</th>\n",
       "      <td>Rovaniemi</td>\n",
       "      <td>66.5000</td>\n",
       "      <td>25.7167</td>\n",
       "      <td>26.01</td>\n",
       "      <td>100</td>\n",
       "      <td>90</td>\n",
       "      <td>9.22</td>\n",
       "    </tr>\n",
       "    <tr>\n",
       "      <th>6</th>\n",
       "      <td>Ushuaia</td>\n",
       "      <td>-54.8000</td>\n",
       "      <td>-68.3000</td>\n",
       "      <td>35.26</td>\n",
       "      <td>64</td>\n",
       "      <td>75</td>\n",
       "      <td>21.85</td>\n",
       "    </tr>\n",
       "    <tr>\n",
       "      <th>7</th>\n",
       "      <td>New Norfolk</td>\n",
       "      <td>-42.7826</td>\n",
       "      <td>147.0587</td>\n",
       "      <td>51.66</td>\n",
       "      <td>60</td>\n",
       "      <td>99</td>\n",
       "      <td>3.00</td>\n",
       "    </tr>\n",
       "    <tr>\n",
       "      <th>8</th>\n",
       "      <td>Rio Grande</td>\n",
       "      <td>-32.0350</td>\n",
       "      <td>-52.0986</td>\n",
       "      <td>64.94</td>\n",
       "      <td>62</td>\n",
       "      <td>0</td>\n",
       "      <td>4.12</td>\n",
       "    </tr>\n",
       "    <tr>\n",
       "      <th>9</th>\n",
       "      <td>Busselton</td>\n",
       "      <td>-33.6500</td>\n",
       "      <td>115.3333</td>\n",
       "      <td>55.04</td>\n",
       "      <td>82</td>\n",
       "      <td>100</td>\n",
       "      <td>9.91</td>\n",
       "    </tr>\n",
       "  </tbody>\n",
       "</table>\n",
       "</div>"
      ],
      "text/plain": [
       "          City  Latitude  Longitude  Max Temperature  Humidity  Cloudiness  \\\n",
       "0    Porbandar   21.6422    69.6093            78.24        65           0   \n",
       "1      Iqaluit   63.7506   -68.5145            29.70        92          82   \n",
       "2       Koslan   63.4564    48.8989            27.68        82          95   \n",
       "3         Lebu  -37.6167   -73.6500            55.67        85          12   \n",
       "4        Nioro   13.3500   -15.7500            81.18        77         100   \n",
       "5    Rovaniemi   66.5000    25.7167            26.01       100          90   \n",
       "6      Ushuaia  -54.8000   -68.3000            35.26        64          75   \n",
       "7  New Norfolk  -42.7826   147.0587            51.66        60          99   \n",
       "8   Rio Grande  -32.0350   -52.0986            64.94        62           0   \n",
       "9    Busselton  -33.6500   115.3333            55.04        82         100   \n",
       "\n",
       "   Wind Speed  \n",
       "0        6.24  \n",
       "1        5.99  \n",
       "2        7.05  \n",
       "3        8.57  \n",
       "4        4.76  \n",
       "5        9.22  \n",
       "6       21.85  \n",
       "7        3.00  \n",
       "8        4.12  \n",
       "9        9.91  "
      ]
     },
     "execution_count": 7,
     "metadata": {},
     "output_type": "execute_result"
    }
   ],
   "source": [
    "weather_check_cities = pd.DataFrame({'City': city_name,\n",
    "                            'Latitude': latitude,\n",
    "                            'Longitude': longitude,\n",
    "                            'Max Temperature': max_temperature,\n",
    "                            'Humidity': humidity,\n",
    "                            'Cloudiness': cloudiness,\n",
    "                            'Wind Speed': wind_speed})\n",
    "\n",
    "#Save and export dataframe as csv\n",
    "pd.DataFrame.to_csv(weather_check_cities, 'weather_check_cities.csv') \n",
    "\n",
    "weather_check_cities.head(10)"
   ]
  },
  {
   "cell_type": "markdown",
   "metadata": {},
   "source": [
    "## Inspect the data and remove the cities where the humidity > 100%.\n",
    "----\n",
    "Skip this step if there are no cities that have humidity > 100%. "
   ]
  },
  {
   "cell_type": "code",
   "execution_count": 8,
   "metadata": {},
   "outputs": [
    {
     "data": {
      "text/plain": [
       "count    568.000000\n",
       "mean      72.126761\n",
       "std       19.180056\n",
       "min       10.000000\n",
       "25%       64.000000\n",
       "50%       75.500000\n",
       "75%       86.000000\n",
       "max      100.000000\n",
       "Name: Humidity, dtype: float64"
      ]
     },
     "execution_count": 8,
     "metadata": {},
     "output_type": "execute_result"
    }
   ],
   "source": [
    "#  Get the indices of cities that have humidity over 100%.\n",
    "\n",
    "high_humidity = weather_check_cities[\"Humidity\"].describe(include = \"all\")\n",
    "\n",
    "high_humidity.head(10)"
   ]
  },
  {
   "cell_type": "code",
   "execution_count": 9,
   "metadata": {},
   "outputs": [
    {
     "name": "stdout",
     "output_type": "stream",
     "text": [
      "The max humidity is stated as 100% therefore, we do not need to move forward with this step.\n"
     ]
    }
   ],
   "source": [
    "# Make a new DataFrame equal to the city data to drop all humidity outliers by index.\n",
    "# Passing \"inplace=False\" will make a copy of the city_data DataFrame, which we call \"clean_city_data\".\n",
    "\n",
    "print(f\"The max humidity is stated as 100% therefore, we do not need to move forward with this step.\")"
   ]
  },
  {
   "cell_type": "markdown",
   "metadata": {},
   "source": [
    "## Plotting the Data\n",
    "* Use proper labeling of the plots using plot titles (including date of analysis) and axes labels.\n",
    "* Save the plotted figures as .pngs."
   ]
  },
  {
   "cell_type": "code",
   "execution_count": 10,
   "metadata": {},
   "outputs": [],
   "source": [
    "#The first requirement is to create a series of scatter plots to showcase the following relationships:\n",
    "\n",
    "#* Temperature (F) vs. Latitude\n",
    "#* Humidity (%) vs. Latitude\n",
    "#* Cloudiness (%) vs. Latitude\n",
    "#* Wind Speed (mph) vs. Latitude"
   ]
  },
  {
   "cell_type": "markdown",
   "metadata": {},
   "source": [
    "## Latitude vs. Temperature Plot"
   ]
  },
  {
   "cell_type": "code",
   "execution_count": 11,
   "metadata": {
    "scrolled": true
   },
   "outputs": [
    {
     "data": {
      "image/png": "[encoded data removed]",
      "text/plain": [
       "<Figure size 432x288 with 1 Axes>"
      ]
     },
     "metadata": {
      "needs_background": "light"
     },
     "output_type": "display_data"
    }
   ],
   "source": [
    "#Scatter plot 1\n",
    "\n",
    "plt.scatter(weather_check_cities['Latitude'], weather_check_cities['Max Temperature'])\n",
    "plt.title(f\"City Latitude vs. Temperature\")\n",
    "plt.xlabel(\"Latitude\")\n",
    "plt.ylabel(\"Temperature (F)\")\n",
    "# plt.grid(True)\n",
    "plt.savefig('lat_temp.png')"
   ]
  },
  {
   "cell_type": "code",
   "execution_count": 12,
   "metadata": {},
   "outputs": [
    {
     "name": "stdout",
     "output_type": "stream",
     "text": [
      "The above scatter plot indicates that the highest temperatures are typically at a latitude of at/around 20.\n"
     ]
    }
   ],
   "source": [
    "print(f\"The above scatter plot indicates that the highest temperatures are typically at a latitude of at/around 20.\")"
   ]
  },
  {
   "cell_type": "markdown",
   "metadata": {},
   "source": [
    "## Latitude vs. Humidity Plot"
   ]
  },
  {
   "cell_type": "code",
   "execution_count": 13,
   "metadata": {},
   "outputs": [
    {
     "data": {
      "image/png": "[encoded data removed]",
      "text/plain": [
       "<Figure size 432x288 with 1 Axes>"
      ]
     },
     "metadata": {
      "needs_background": "light"
     },
     "output_type": "display_data"
    }
   ],
   "source": [
    "#Scatter plot 2\n",
    "\n",
    "plt.scatter(weather_check_cities['Latitude'], weather_check_cities['Humidity'])\n",
    "plt.title(f\"City Latitude vs. Humidity\")\n",
    "plt.xlabel(\"Latitude\")\n",
    "plt.ylabel(\"Humidity (%)\")\n",
    "# plt.grid(True)\n",
    "plt.savefig('lat_humidity.png')"
   ]
  },
  {
   "cell_type": "code",
   "execution_count": 14,
   "metadata": {},
   "outputs": [
    {
     "name": "stdout",
     "output_type": "stream",
     "text": [
      "The above scatter plots indicates little to no relation between x and y.\n"
     ]
    }
   ],
   "source": [
    "print(f\"The above scatter plots indicates little to no relation between x and y.\")"
   ]
  },
  {
   "cell_type": "markdown",
   "metadata": {},
   "source": [
    "## Latitude vs. Cloudiness Plot"
   ]
  },
  {
   "cell_type": "code",
   "execution_count": 15,
   "metadata": {},
   "outputs": [
    {
     "data": {
      "image/png": "[encoded data removed]",
      "text/plain": [
       "<Figure size 432x288 with 1 Axes>"
      ]
     },
     "metadata": {
      "needs_background": "light"
     },
     "output_type": "display_data"
    }
   ],
   "source": [
    "#Scatter plot 3\n",
    "\n",
    "plt.scatter(weather_check_cities['Latitude'], weather_check_cities['Cloudiness'])\n",
    "plt.title(f\"City Latitude vs. Cloudiness\")\n",
    "plt.xlabel(\"Latitude\")\n",
    "plt.ylabel(\"Cloudiness)\")\n",
    "# plt.grid(True)\n",
    "plt.savefig('lat_cloudiness.png')"
   ]
  },
  {
   "cell_type": "code",
   "execution_count": 16,
   "metadata": {},
   "outputs": [
    {
     "name": "stdout",
     "output_type": "stream",
     "text": [
      "The above scatter plots indicates little to no relation between x and y.\n"
     ]
    }
   ],
   "source": [
    "print(f\"The above scatter plots indicates little to no relation between x and y.\")"
   ]
  },
  {
   "cell_type": "markdown",
   "metadata": {},
   "source": [
    "## Latitude vs. Wind Speed Plot"
   ]
  },
  {
   "cell_type": "code",
   "execution_count": 17,
   "metadata": {},
   "outputs": [
    {
     "data": {
      "image/png": "[encoded data removed]",
      "text/plain": [
       "<Figure size 432x288 with 1 Axes>"
      ]
     },
     "metadata": {
      "needs_background": "light"
     },
     "output_type": "display_data"
    }
   ],
   "source": [
    "#Scatter plot 4\n",
    "\n",
    "plt.scatter(weather_check_cities['Latitude'], weather_check_cities['Wind Speed'])\n",
    "plt.title(f\"City Latitude vs. Wind Speed\")\n",
    "plt.xlabel(\"Latitude\")\n",
    "plt.ylabel(\"Wind Speed)\")\n",
    "# plt.grid(True)\n",
    "plt.savefig('lat_wing_speed.png')"
   ]
  },
  {
   "cell_type": "code",
   "execution_count": 18,
   "metadata": {},
   "outputs": [
    {
     "name": "stdout",
     "output_type": "stream",
     "text": [
      "The above scatter plot indicates a slight positive correlation between x and y however, majority of the scatter plot inidcates low correlation levels.\n"
     ]
    }
   ],
   "source": [
    "print(f\"The above scatter plot indicates a slight positive correlation between x and y however, majority of the scatter plot inidcates low correlation levels.\")"
   ]
  },
  {
   "cell_type": "markdown",
   "metadata": {},
   "source": [
    "## Linear Regression"
   ]
  },
  {
   "cell_type": "code",
   "execution_count": 21,
   "metadata": {},
   "outputs": [],
   "source": [
    "#Linear Regression Model\n",
    "\n",
    "#dataframes for northern and southern\n",
    "northern = weather_check_cities.loc[weather_check_cities['Latitude']>0]\n",
    "southern = weather_check_cities.loc[weather_check_cities['Latitude']<0]"
   ]
  },
  {
   "cell_type": "code",
   "execution_count": 22,
   "metadata": {},
   "outputs": [
    {
     "data": {
      "text/html": [
       "<div>\n",
       "<style scoped>\n",
       "    .dataframe tbody tr th:only-of-type {\n",
       "        vertical-align: middle;\n",
       "    }\n",
       "\n",
       "    .dataframe tbody tr th {\n",
       "        vertical-align: top;\n",
       "    }\n",
       "\n",
       "    .dataframe thead th {\n",
       "        text-align: right;\n",
       "    }\n",
       "</style>\n",
       "<table border=\"1\" class=\"dataframe\">\n",
       "  <thead>\n",
       "    <tr style=\"text-align: right;\">\n",
       "      <th></th>\n",
       "      <th>City</th>\n",
       "      <th>Latitude</th>\n",
       "      <th>Longitude</th>\n",
       "      <th>Max Temperature</th>\n",
       "      <th>Humidity</th>\n",
       "      <th>Cloudiness</th>\n",
       "      <th>Wind Speed</th>\n",
       "    </tr>\n",
       "  </thead>\n",
       "  <tbody>\n",
       "    <tr>\n",
       "      <th>0</th>\n",
       "      <td>Porbandar</td>\n",
       "      <td>21.6422</td>\n",
       "      <td>69.6093</td>\n",
       "      <td>78.24</td>\n",
       "      <td>65</td>\n",
       "      <td>0</td>\n",
       "      <td>6.24</td>\n",
       "    </tr>\n",
       "    <tr>\n",
       "      <th>1</th>\n",
       "      <td>Iqaluit</td>\n",
       "      <td>63.7506</td>\n",
       "      <td>-68.5145</td>\n",
       "      <td>29.70</td>\n",
       "      <td>92</td>\n",
       "      <td>82</td>\n",
       "      <td>5.99</td>\n",
       "    </tr>\n",
       "    <tr>\n",
       "      <th>2</th>\n",
       "      <td>Koslan</td>\n",
       "      <td>63.4564</td>\n",
       "      <td>48.8989</td>\n",
       "      <td>27.68</td>\n",
       "      <td>82</td>\n",
       "      <td>95</td>\n",
       "      <td>7.05</td>\n",
       "    </tr>\n",
       "    <tr>\n",
       "      <th>4</th>\n",
       "      <td>Nioro</td>\n",
       "      <td>13.3500</td>\n",
       "      <td>-15.7500</td>\n",
       "      <td>81.18</td>\n",
       "      <td>77</td>\n",
       "      <td>100</td>\n",
       "      <td>4.76</td>\n",
       "    </tr>\n",
       "    <tr>\n",
       "      <th>5</th>\n",
       "      <td>Rovaniemi</td>\n",
       "      <td>66.5000</td>\n",
       "      <td>25.7167</td>\n",
       "      <td>26.01</td>\n",
       "      <td>100</td>\n",
       "      <td>90</td>\n",
       "      <td>9.22</td>\n",
       "    </tr>\n",
       "    <tr>\n",
       "      <th>11</th>\n",
       "      <td>Pevek</td>\n",
       "      <td>69.7008</td>\n",
       "      <td>170.3133</td>\n",
       "      <td>6.39</td>\n",
       "      <td>93</td>\n",
       "      <td>100</td>\n",
       "      <td>4.03</td>\n",
       "    </tr>\n",
       "    <tr>\n",
       "      <th>12</th>\n",
       "      <td>Longyearbyen</td>\n",
       "      <td>78.2186</td>\n",
       "      <td>15.6401</td>\n",
       "      <td>17.44</td>\n",
       "      <td>79</td>\n",
       "      <td>40</td>\n",
       "      <td>2.30</td>\n",
       "    </tr>\n",
       "    <tr>\n",
       "      <th>13</th>\n",
       "      <td>Cascais</td>\n",
       "      <td>38.6979</td>\n",
       "      <td>-9.4215</td>\n",
       "      <td>61.50</td>\n",
       "      <td>67</td>\n",
       "      <td>3</td>\n",
       "      <td>5.01</td>\n",
       "    </tr>\n",
       "    <tr>\n",
       "      <th>15</th>\n",
       "      <td>Hong Kong</td>\n",
       "      <td>22.2855</td>\n",
       "      <td>114.1577</td>\n",
       "      <td>70.25</td>\n",
       "      <td>73</td>\n",
       "      <td>37</td>\n",
       "      <td>1.99</td>\n",
       "    </tr>\n",
       "    <tr>\n",
       "      <th>16</th>\n",
       "      <td>Ayan</td>\n",
       "      <td>56.4500</td>\n",
       "      <td>138.1667</td>\n",
       "      <td>38.77</td>\n",
       "      <td>75</td>\n",
       "      <td>43</td>\n",
       "      <td>2.30</td>\n",
       "    </tr>\n",
       "  </tbody>\n",
       "</table>\n",
       "</div>"
      ],
      "text/plain": [
       "            City  Latitude  Longitude  Max Temperature  Humidity  Cloudiness  \\\n",
       "0      Porbandar   21.6422    69.6093            78.24        65           0   \n",
       "1        Iqaluit   63.7506   -68.5145            29.70        92          82   \n",
       "2         Koslan   63.4564    48.8989            27.68        82          95   \n",
       "4          Nioro   13.3500   -15.7500            81.18        77         100   \n",
       "5      Rovaniemi   66.5000    25.7167            26.01       100          90   \n",
       "11         Pevek   69.7008   170.3133             6.39        93         100   \n",
       "12  Longyearbyen   78.2186    15.6401            17.44        79          40   \n",
       "13       Cascais   38.6979    -9.4215            61.50        67           3   \n",
       "15     Hong Kong   22.2855   114.1577            70.25        73          37   \n",
       "16          Ayan   56.4500   138.1667            38.77        75          43   \n",
       "\n",
       "    Wind Speed  \n",
       "0         6.24  \n",
       "1         5.99  \n",
       "2         7.05  \n",
       "4         4.76  \n",
       "5         9.22  \n",
       "11        4.03  \n",
       "12        2.30  \n",
       "13        5.01  \n",
       "15        1.99  \n",
       "16        2.30  "
      ]
     },
     "execution_count": 22,
     "metadata": {},
     "output_type": "execute_result"
    }
   ],
   "source": [
    "northern.head(10)"
   ]
  },
  {
   "cell_type": "code",
   "execution_count": 23,
   "metadata": {},
   "outputs": [
    {
     "data": {
      "text/html": [
       "<div>\n",
       "<style scoped>\n",
       "    .dataframe tbody tr th:only-of-type {\n",
       "        vertical-align: middle;\n",
       "    }\n",
       "\n",
       "    .dataframe tbody tr th {\n",
       "        vertical-align: top;\n",
       "    }\n",
       "\n",
       "    .dataframe thead th {\n",
       "        text-align: right;\n",
       "    }\n",
       "</style>\n",
       "<table border=\"1\" class=\"dataframe\">\n",
       "  <thead>\n",
       "    <tr style=\"text-align: right;\">\n",
       "      <th></th>\n",
       "      <th>City</th>\n",
       "      <th>Latitude</th>\n",
       "      <th>Longitude</th>\n",
       "      <th>Max Temperature</th>\n",
       "      <th>Humidity</th>\n",
       "      <th>Cloudiness</th>\n",
       "      <th>Wind Speed</th>\n",
       "    </tr>\n",
       "  </thead>\n",
       "  <tbody>\n",
       "    <tr>\n",
       "      <th>3</th>\n",
       "      <td>Lebu</td>\n",
       "      <td>-37.6167</td>\n",
       "      <td>-73.6500</td>\n",
       "      <td>55.67</td>\n",
       "      <td>85</td>\n",
       "      <td>12</td>\n",
       "      <td>8.57</td>\n",
       "    </tr>\n",
       "    <tr>\n",
       "      <th>6</th>\n",
       "      <td>Ushuaia</td>\n",
       "      <td>-54.8000</td>\n",
       "      <td>-68.3000</td>\n",
       "      <td>35.26</td>\n",
       "      <td>64</td>\n",
       "      <td>75</td>\n",
       "      <td>21.85</td>\n",
       "    </tr>\n",
       "    <tr>\n",
       "      <th>7</th>\n",
       "      <td>New Norfolk</td>\n",
       "      <td>-42.7826</td>\n",
       "      <td>147.0587</td>\n",
       "      <td>51.66</td>\n",
       "      <td>60</td>\n",
       "      <td>99</td>\n",
       "      <td>3.00</td>\n",
       "    </tr>\n",
       "    <tr>\n",
       "      <th>8</th>\n",
       "      <td>Rio Grande</td>\n",
       "      <td>-32.0350</td>\n",
       "      <td>-52.0986</td>\n",
       "      <td>64.94</td>\n",
       "      <td>62</td>\n",
       "      <td>0</td>\n",
       "      <td>4.12</td>\n",
       "    </tr>\n",
       "    <tr>\n",
       "      <th>9</th>\n",
       "      <td>Busselton</td>\n",
       "      <td>-33.6500</td>\n",
       "      <td>115.3333</td>\n",
       "      <td>55.04</td>\n",
       "      <td>82</td>\n",
       "      <td>100</td>\n",
       "      <td>9.91</td>\n",
       "    </tr>\n",
       "    <tr>\n",
       "      <th>10</th>\n",
       "      <td>Cape Town</td>\n",
       "      <td>-33.9258</td>\n",
       "      <td>18.4232</td>\n",
       "      <td>59.34</td>\n",
       "      <td>67</td>\n",
       "      <td>0</td>\n",
       "      <td>3.00</td>\n",
       "    </tr>\n",
       "    <tr>\n",
       "      <th>14</th>\n",
       "      <td>Rikitea</td>\n",
       "      <td>-23.1203</td>\n",
       "      <td>-134.9692</td>\n",
       "      <td>74.73</td>\n",
       "      <td>76</td>\n",
       "      <td>43</td>\n",
       "      <td>16.53</td>\n",
       "    </tr>\n",
       "    <tr>\n",
       "      <th>21</th>\n",
       "      <td>Atuona</td>\n",
       "      <td>-9.8000</td>\n",
       "      <td>-139.0333</td>\n",
       "      <td>77.92</td>\n",
       "      <td>73</td>\n",
       "      <td>2</td>\n",
       "      <td>17.36</td>\n",
       "    </tr>\n",
       "    <tr>\n",
       "      <th>25</th>\n",
       "      <td>Ahipara</td>\n",
       "      <td>-35.1667</td>\n",
       "      <td>173.1667</td>\n",
       "      <td>65.98</td>\n",
       "      <td>71</td>\n",
       "      <td>16</td>\n",
       "      <td>3.60</td>\n",
       "    </tr>\n",
       "    <tr>\n",
       "      <th>26</th>\n",
       "      <td>Hobart</td>\n",
       "      <td>-42.8794</td>\n",
       "      <td>147.3294</td>\n",
       "      <td>52.02</td>\n",
       "      <td>73</td>\n",
       "      <td>75</td>\n",
       "      <td>5.01</td>\n",
       "    </tr>\n",
       "  </tbody>\n",
       "</table>\n",
       "</div>"
      ],
      "text/plain": [
       "           City  Latitude  Longitude  Max Temperature  Humidity  Cloudiness  \\\n",
       "3          Lebu  -37.6167   -73.6500            55.67        85          12   \n",
       "6       Ushuaia  -54.8000   -68.3000            35.26        64          75   \n",
       "7   New Norfolk  -42.7826   147.0587            51.66        60          99   \n",
       "8    Rio Grande  -32.0350   -52.0986            64.94        62           0   \n",
       "9     Busselton  -33.6500   115.3333            55.04        82         100   \n",
       "10    Cape Town  -33.9258    18.4232            59.34        67           0   \n",
       "14      Rikitea  -23.1203  -134.9692            74.73        76          43   \n",
       "21       Atuona   -9.8000  -139.0333            77.92        73           2   \n",
       "25      Ahipara  -35.1667   173.1667            65.98        71          16   \n",
       "26       Hobart  -42.8794   147.3294            52.02        73          75   \n",
       "\n",
       "    Wind Speed  \n",
       "3         8.57  \n",
       "6        21.85  \n",
       "7         3.00  \n",
       "8         4.12  \n",
       "9         9.91  \n",
       "10        3.00  \n",
       "14       16.53  \n",
       "21       17.36  \n",
       "25        3.60  \n",
       "26        5.01  "
      ]
     },
     "execution_count": 23,
     "metadata": {},
     "output_type": "execute_result"
    }
   ],
   "source": [
    "southern.head(10)"
   ]
  },
  {
   "cell_type": "markdown",
   "metadata": {},
   "source": [
    "####  Northern Hemisphere - Max Temp vs. Latitude Linear Regression"
   ]
  },
  {
   "cell_type": "code",
   "execution_count": 28,
   "metadata": {},
   "outputs": [],
   "source": [
    "#linear reg 1\n",
    "\n",
    "x = pd.to_numeric(northern['Latitude'])\n",
    "\n",
    "y = pd.to_numeric(northern['Max Temperature'])\n",
    "\n",
    "(slope, intercept, rvalue, pvalue, stderr) = linregress(x, y)\n",
    "regression= x * slope + intercept\n",
    "\n",
    "equation = \"y =\" + str(round(slope,2)) + \"x + \" + str(round(intercept,2))"
   ]
  },
  {
   "cell_type": "code",
   "execution_count": 54,
   "metadata": {},
   "outputs": [
    {
     "name": "stdout",
     "output_type": "stream",
     "text": [
      "The r-squared is: 0.32056171601845723\n",
      "The chart indicates that in the Northern Hemisphere the temperature get's cool as the lattitude gets higher.\n"
     ]
    },
    {
     "data": {
      "image/png": "[encoded data removed]",
      "text/plain": [
       "<Figure size 432x288 with 1 Axes>"
      ]
     },
     "metadata": {
      "needs_background": "light"
     },
     "output_type": "display_data"
    }
   ],
   "source": [
    "#plot scatter\n",
    "\n",
    "plt.scatter(x,y)\n",
    "plt.plot(x,regression, \"r-\")\n",
    "plt.annotate(equation,(5,5),fontsize=10,color=\"brown\")\n",
    "plt.xlabel('Latitude')\n",
    "plt.ylabel('Max Temperature (F)')\n",
    "plt.title('Northern Hemisphere - Max Temp vs. Latitude Linear Regression')\n",
    "print(f\"The r-squared is: {rvalue}\")\n",
    "print(\"The chart indicates that in the Northern Hemisphere the temperature get's cool as the lattitude gets higher.\")\n",
    "      \n",
    "plt.show()\n",
    "\n"
   ]
  },
  {
   "cell_type": "markdown",
   "metadata": {},
   "source": [
    "####  Southern Hemisphere - Max Temp vs. Latitude Linear Regression"
   ]
  },
  {
   "cell_type": "code",
   "execution_count": 41,
   "metadata": {},
   "outputs": [],
   "source": [
    "#linear reg 2\n",
    "\n",
    "x = pd.to_numeric(southern['Latitude'])\n",
    "\n",
    "y = pd.to_numeric(southern['Max Temperature'])\n",
    "\n",
    "(slope, intercept, rvalue, pvalue, stderr) = linregress(x, y)\n",
    "regression= x * slope + intercept\n",
    "\n",
    "equation = \"y =\" + str(round(slope,2)) + \"x + \" + str(round(intercept,2))"
   ]
  },
  {
   "cell_type": "code",
   "execution_count": 53,
   "metadata": {},
   "outputs": [
    {
     "name": "stdout",
     "output_type": "stream",
     "text": [
      "The r-squared is: 0.32056171601845723\n",
      "The chart indicates that in the Southern Hemisphere the temperature get's warmer as the lattitude gets higher.\n"
     ]
    },
    {
     "data": {
      "image/png": "[encoded data removed]",
      "text/plain": [
       "<Figure size 432x288 with 1 Axes>"
      ]
     },
     "metadata": {
      "needs_background": "light"
     },
     "output_type": "display_data"
    }
   ],
   "source": [
    "#plot scatter\n",
    "\n",
    "plt.scatter(x,y)\n",
    "plt.plot(x,regression, \"r-\")\n",
    "plt.annotate(equation,(5,5),fontsize=10,color=\"brown\")\n",
    "plt.xlabel('Latitude')\n",
    "plt.ylabel('Max Temperature (F)')\n",
    "plt.title('Southern Hemisphere - Max Temp vs. Latitude Linear Regression')\n",
    "print(f\"The r-squared is: {rvalue}\")\n",
    "print(\"The chart indicates that in the Southern Hemisphere the temperature get's warmer as the lattitude gets higher.\")\n",
    "plt.show()"
   ]
  },
  {
   "cell_type": "markdown",
   "metadata": {},
   "source": [
    "####  Northern Hemisphere - Humidity (%) vs. Latitude Linear Regression"
   ]
  },
  {
   "cell_type": "code",
   "execution_count": 44,
   "metadata": {},
   "outputs": [],
   "source": [
    "#linear reg 3\n",
    "x = pd.to_numeric(northern['Latitude'])\n",
    "\n",
    "y = pd.to_numeric(northern['Humidity'])\n",
    "\n",
    "(slope, intercept, rvalue, pvalue, stderr) = linregress(x, y)\n",
    "regression= x * slope + intercept\n",
    "\n",
    "equation = \"y =\" + str(round(slope,2)) + \"x + \" + str(round(intercept,2))"
   ]
  },
  {
   "cell_type": "code",
   "execution_count": 52,
   "metadata": {},
   "outputs": [
    {
     "name": "stdout",
     "output_type": "stream",
     "text": [
      "The r-squared is: 0.32056171601845723\n",
      "The chart indicates that in the Northern Hemisphere huidity is pretty inconsistant.\n"
     ]
    },
    {
     "data": {
      "image/png": "[encoded data removed]",
      "text/plain": [
       "<Figure size 432x288 with 1 Axes>"
      ]
     },
     "metadata": {
      "needs_background": "light"
     },
     "output_type": "display_data"
    }
   ],
   "source": [
    "plt.scatter(x,y)\n",
    "plt.plot(x,regression, \"r-\")\n",
    "plt.annotate(equation,(5,5),fontsize=10,color=\"brown\")\n",
    "plt.xlabel('Latitude')\n",
    "plt.ylabel('Humidity (%)')\n",
    "plt.title('Northern Hemisphere - Humidity (%) vs. Latitude Linear Regression')\n",
    "print(f\"The r-squared is: {rvalue}\")\n",
    "print(\"The chart indicates that in the Northern Hemisphere huidity is pretty inconsistant.\")\n",
    "plt.show()"
   ]
  },
  {
   "cell_type": "markdown",
   "metadata": {},
   "source": [
    "####  Southern Hemisphere - Humidity (%) vs. Latitude Linear Regression"
   ]
  },
  {
   "cell_type": "code",
   "execution_count": 47,
   "metadata": {},
   "outputs": [],
   "source": [
    "#linear reg 4\n",
    "x = pd.to_numeric(southern['Latitude'])\n",
    "\n",
    "y = pd.to_numeric(southern['Humidity'])\n",
    "\n",
    "(slope, intercept, rvalue, pvalue, stderr) = linregress(x, y)\n",
    "regression= x * slope + intercept\n",
    "\n",
    "equation = \"y =\" + str(round(slope,2)) + \"x + \" + str(round(intercept,2))"
   ]
  },
  {
   "cell_type": "code",
   "execution_count": 51,
   "metadata": {},
   "outputs": [
    {
     "name": "stdout",
     "output_type": "stream",
     "text": [
      "The r-squared is: 0.32056171601845723\n",
      "The chart indicates that in the Southern Hemisphere huidity is pretty consistant.\n"
     ]
    },
    {
     "data": {
      "image/png": "[encoded data removed]",
      "text/plain": [
       "<Figure size 432x288 with 1 Axes>"
      ]
     },
     "metadata": {
      "needs_background": "light"
     },
     "output_type": "display_data"
    }
   ],
   "source": [
    "plt.scatter(x,y)\n",
    "plt.plot(x,regression, \"r-\")\n",
    "plt.annotate(equation,(5,5),fontsize=10,color=\"brown\")\n",
    "plt.xlabel('Latitude')\n",
    "plt.ylabel('Humidity (%)')\n",
    "plt.title('Southern Hemisphere - Humidity (%) vs. Latitude Linear Regression')\n",
    "print(f\"The r-squared is: {rvalue}\")\n",
    "print(\"The chart indicates that in the Southern Hemisphere huidity is pretty consistant.\")\n",
    "plt.show()"
   ]
  },
  {
   "cell_type": "markdown",
   "metadata": {},
   "source": [
    "####  Northern Hemisphere - Cloudiness (%) vs. Latitude Linear Regression"
   ]
  },
  {
   "cell_type": "code",
   "execution_count": 56,
   "metadata": {},
   "outputs": [
    {
     "name": "stdout",
     "output_type": "stream",
     "text": [
      "The r-squared is: 0.13536933795196518\n",
      "The chart indicates that in the Southern Hemisphere cloudiness is pretty inconsistant.\n"
     ]
    },
    {
     "data": {
      "image/png": "[encoded data removed]",
      "text/plain": [
       "<Figure size 432x288 with 1 Axes>"
      ]
     },
     "metadata": {
      "needs_background": "light"
     },
     "output_type": "display_data"
    }
   ],
   "source": [
    "#linear reg 5\n",
    "x = pd.to_numeric(northern['Latitude'])\n",
    "\n",
    "y = pd.to_numeric(northern['Cloudiness'])\n",
    "\n",
    "(slope, intercept, rvalue, pvalue, stderr) = linregress(x, y)\n",
    "regression= x * slope + intercept\n",
    "\n",
    "equation = \"y =\" + str(round(slope,2)) + \"x + \" + str(round(intercept,2))\n",
    "\n",
    "plt.scatter(x,y)\n",
    "plt.plot(x,regression, \"r-\")\n",
    "plt.annotate(equation,(5,5),fontsize=10,color=\"brown\")\n",
    "plt.xlabel('Latitude')\n",
    "plt.ylabel('Cloudiness (%)')\n",
    "plt.title('Northern Hemisphere - Cloudiness (%) vs. Latitude Linear Regression')\n",
    "print(f\"The r-squared is: {rvalue}\")\n",
    "print(\"The chart indicates that in the Southern Hemisphere cloudiness is pretty inconsistant.\")\n",
    "plt.show()"
   ]
  },
  {
   "cell_type": "markdown",
   "metadata": {},
   "source": [
    "####  Southern Hemisphere - Cloudiness (%) vs. Latitude Linear Regression"
   ]
  },
  {
   "cell_type": "code",
   "execution_count": 58,
   "metadata": {},
   "outputs": [
    {
     "name": "stdout",
     "output_type": "stream",
     "text": [
      "The r-squared is: 0.2312306235395808\n",
      "The chart indicates that in the Southern Hemisphere cloudiness is pretty consistant.\n"
     ]
    },
    {
     "data": {
      "image/png": "[encoded data removed]",
      "text/plain": [
       "<Figure size 432x288 with 1 Axes>"
      ]
     },
     "metadata": {
      "needs_background": "light"
     },
     "output_type": "display_data"
    }
   ],
   "source": [
    "#linear reg 6\n",
    "x = pd.to_numeric(southern['Latitude'])\n",
    "\n",
    "y = pd.to_numeric(southern['Cloudiness'])\n",
    "\n",
    "(slope, intercept, rvalue, pvalue, stderr) = linregress(x, y)\n",
    "regression= x * slope + intercept\n",
    "\n",
    "equation = \"y =\" + str(round(slope,2)) + \"x + \" + str(round(intercept,2))\n",
    "\n",
    "plt.scatter(x,y)\n",
    "plt.plot(x,regression, \"r-\")\n",
    "plt.annotate(equation,(5,5),fontsize=10,color=\"brown\")\n",
    "plt.xlabel('Latitude')\n",
    "plt.ylabel('Cloudiness(%)')\n",
    "plt.title('Southern Hemisphere - Cloudiness (%) vs. Latitude Linear Regression')\n",
    "print(f\"The r-squared is: {rvalue}\")\n",
    "print(\"The chart indicates that in the Southern Hemisphere cloudiness is pretty consistant.\")\n",
    "plt.show()"
   ]
  },
  {
   "cell_type": "markdown",
   "metadata": {},
   "source": [
    "####  Northern Hemisphere - Wind Speed (mph) vs. Latitude Linear Regression"
   ]
  },
  {
   "cell_type": "code",
   "execution_count": 62,
   "metadata": {},
   "outputs": [
    {
     "name": "stdout",
     "output_type": "stream",
     "text": [
      "The r-squared is: 0.14161980910015862\n",
      "The chart indicates that in the Northern Hemisphere wind speed is pretty consistant.\n"
     ]
    },
    {
     "data": {
      "image/png": "[encoded data removed]",
      "text/plain": [
       "<Figure size 432x288 with 1 Axes>"
      ]
     },
     "metadata": {
      "needs_background": "light"
     },
     "output_type": "display_data"
    }
   ],
   "source": [
    "#linear reg 7\n",
    "x = pd.to_numeric(northern['Latitude'])\n",
    "\n",
    "y = pd.to_numeric(northern['Wind Speed'])\n",
    "\n",
    "(slope, intercept, rvalue, pvalue, stderr) = linregress(x, y)\n",
    "regression= x * slope + intercept\n",
    "\n",
    "equation = \"y =\" + str(round(slope,2)) + \"x + \" + str(round(intercept,2))\n",
    "\n",
    "plt.scatter(x,y)\n",
    "plt.plot(x,regression, \"r-\")\n",
    "plt.annotate(equation,(5,5),fontsize=10,color=\"brown\")\n",
    "plt.xlabel('Latitude')\n",
    "plt.ylabel('Wind Speed(mph)')\n",
    "plt.title('Northern Hemisphere - Wind Speed (mph) vs. Latitude Linear Regression')\n",
    "print(f\"The r-squared is: {rvalue}\")\n",
    "print(\"The chart indicates that in the Northern Hemisphere wind speed is pretty consistant.\")\n",
    "plt.show()"
   ]
  },
  {
   "cell_type": "markdown",
   "metadata": {},
   "source": [
    "####  Southern Hemisphere - Wind Speed (mph) vs. Latitude Linear Regression"
   ]
  },
  {
   "cell_type": "code",
   "execution_count": 64,
   "metadata": {},
   "outputs": [
    {
     "name": "stdout",
     "output_type": "stream",
     "text": [
      "The r-squared is: -0.3168181178571201\n",
      "The chart indicates that in the Southern Hemisphere wind speed is pretty consistant.\n"
     ]
    },
    {
     "data": {
      "image/png": "[encoded data removed]",
      "text/plain": [
       "<Figure size 432x288 with 1 Axes>"
      ]
     },
     "metadata": {
      "needs_background": "light"
     },
     "output_type": "display_data"
    }
   ],
   "source": [
    "#linear reg 8\n",
    "x = pd.to_numeric(southern['Latitude'])\n",
    "\n",
    "y = pd.to_numeric(southern['Wind Speed'])\n",
    "\n",
    "(slope, intercept, rvalue, pvalue, stderr) = linregress(x, y)\n",
    "regression= x * slope + intercept\n",
    "\n",
    "equation = \"y =\" + str(round(slope,2)) + \"x + \" + str(round(intercept,2))\n",
    "\n",
    "plt.scatter(x,y)\n",
    "plt.plot(x,regression, \"r-\")\n",
    "plt.annotate(equation,(5,5),fontsize=10,color=\"brown\")\n",
    "plt.xlabel('Latitude')\n",
    "plt.ylabel('Wind Speed(mph)')\n",
    "plt.title('Southern Hemisphere - Wind Speed (mph) vs. Latitude Linear Regression')\n",
    "print(f\"The r-squared is: {rvalue}\")\n",
    "print(\"The chart indicates that in the Southern Hemisphere wind speed is pretty consistant.\")\n",
    "plt.show()"
   ]
  },
  {
   "cell_type": "code",
   "execution_count": null,
   "metadata": {},
   "outputs": [],
   "source": []
  }
 ],
 "metadata": {
  "anaconda-cloud": {},
  "kernel_info": {
   "name": "python3"
  },
  "kernelspec": {
   "display_name": "Python 3",
   "language": "python",
   "name": "python3"
  },
  "language_info": {
   "codemirror_mode": {
    "name": "ipython",
    "version": 3
   },
   "file_extension": ".py",
   "mimetype": "text/x-python",
   "name": "python",
   "nbconvert_exporter": "python",
   "pygments_lexer": "ipython3",
   "version": "3.8.8"
  },
  "latex_envs": {
   "LaTeX_envs_menu_present": true,
   "autoclose": false,
   "autocomplete": true,
   "bibliofile": "biblio.bib",
   "cite_by": "apalike",
   "current_citInitial": 1,
   "eqLabelWithNumbers": true,
   "eqNumInitial": 1,
   "hotkeys": {
    "equation": "Ctrl-E",
    "itemize": "Ctrl-I"
   },
   "labels_anchors": false,
   "latex_user_defs": false,
   "report_style_numbering": false,
   "user_envs_cfg": false
  },
  "nteract": {
   "version": "0.12.3"
  }
 },
 "nbformat": 4,
 "nbformat_minor": 2
}
